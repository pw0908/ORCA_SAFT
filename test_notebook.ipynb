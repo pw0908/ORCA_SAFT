{
 "cells": [
  {
   "cell_type": "code",
   "execution_count": 3,
   "metadata": {},
   "outputs": [],
   "source": [
    "from math import exp\n",
    "import matplotlib.pyplot as plt\n",
    "import const\n",
    "\n",
    "# argument functions\n",
    "def factorial(n):\n",
    "    fact = 1\n",
    "    for i in range (1,int(n)+1):\n",
    "        fact = fact * i\n",
    "    return fact"
   ]
  },
  {
   "cell_type": "code",
   "execution_count": 4,
   "metadata": {},
   "outputs": [],
   "source": [
    "# JHBV Ar potential Mol. Phys. 107:20, 2181-2188 (2009), note there's an error in C16. Corrected here.\n",
    "# length in nm and energy in K\n",
    "def Ar_JHBV(R):\n",
    "    A =    4.61330146E7\n",
    "    a1 =  -2.98337630E1\n",
    "    # a1 =   2.98337630\n",
    "    a2 =  -9.71208881\n",
    "    # a2 =   9.71208881E-2\n",
    "    a_1 =  2.75206827E-2\n",
    "    # a_1 =  2.75206827E-1\n",
    "    a_2 = -1.01489050E-2\n",
    "    # a_2 = -1.01489050\n",
    "    b =    4.02517211E1\n",
    "    # b =    4.02517211\n",
    "    C =   [4.42812017E-1, # C6\n",
    "           3.26707684E-2, # C8\n",
    "           2.45656537E-3, # C10\n",
    "           1.88246247E-4, # C12\n",
    "           1.47012192E-5, # C14\n",
    "           1.17006343E-6] # C16\n",
    "           # 1.70063432E-6 # C16 paper value\n",
    "    eps  = 143.12\n",
    "    Reps = 0.3762\n",
    "    sig  = 0.3357\n",
    "    R2 = R*R\n",
    "    Vexp = A * exp(a1*R + a2*R2 + a_1/R + a_2/R2)\n",
    "    Vpoly = 0\n",
    "    for iN in range(3,9):\n",
    "        Vpoly += C[iN-3]/(R2**iN) * \\\n",
    "        (1 - exp(-b*R) * sum([(b*R)**ik/factorial(ik) for ik in range(0,2*iN+1)]))\n",
    "    V_Ar = Vexp-Vpoly\n",
    "    return V_Ar"
   ]
  },
  {
   "cell_type": "code",
   "execution_count": 3,
   "metadata": {},
   "outputs": [],
   "source": [
    "# Waldrop et al. Kr potential, JCP 142, 204307 (2015) \n",
    "# Energy in Hartree and distance in a_0\n",
    "def Kr_Waldrop(R):\n",
    "    A =  467.771557\n",
    "    B =  -43.111875\n",
    "    C = -509.601417\n",
    "    alpha = 1.566575\n",
    "    beta  = 4.083794\n",
    "    C_array = [\n",
    "         126.790499, # C6\n",
    "        5268.109217  # C8\n",
    "    ]\n",
    "    A_sh = 1296.0\n",
    "    alpha_sh = 3.067950\n",
    "    beta_sh  = 0.3240714\n",
    "    \n",
    "    R2 = R*R\n",
    "    if R<3.40150703:\n",
    "        V_Kr = (A_sh / R) * exp(-alpha_sh*R + beta_sh*R2)\n",
    "    else:\n",
    "        Vexp = (A + B*R + C/R) * exp(-alpha*R)\n",
    "        Vpoly = 0\n",
    "        for iN in range(3,5):\n",
    "            Vpoly += C_array[iN-3]/(R2**iN) * \\\n",
    "            (1 - exp(-beta*R) * sum([(beta*R)**ik/factorial(ik) for ik in range(0,2*iN+1)]))\n",
    "        V_Kr = Vexp-Vpoly\n",
    "    return V_Kr"
   ]
  },
  {
   "cell_type": "code",
   "execution_count": 5,
   "metadata": {},
   "outputs": [],
   "source": [
    "# JHBV Ne potential Mol. Phys. 106:1, 133-140 (2008).\n",
    "# length in nm and energy in K\n",
    "def Ne_JHBV(R):\n",
    "    A =    4.02915058383E7\n",
    "    a1 =  -4.28654039586E1\n",
    "    a2 =  -3.33818674327\n",
    "    a_1 = -5.34644860719E-2\n",
    "    a_2 =  5.01774999419E-3\n",
    "    b =    4.92438731676E1\n",
    "    C =   [4.40676750157E-2, # C6\n",
    "           1.64892507701E-3, # C8\n",
    "           7.90473640524E-5, # C10\n",
    "           4.85489170103E-6, # C12\n",
    "           3.82012334054E-7, # C14\n",
    "           3.85106552963E-8] # C16\n",
    "    eps  = 42.152521\n",
    "    Reps = 0.30894556\n",
    "    sig  = 0.27612487\n",
    "    R2 = R*R\n",
    "    Vexp = A * exp(a1*R + a2*R2 + a_1/R + a_2/R2)\n",
    "    Vpoly = 0\n",
    "    for iN in range(3,9):\n",
    "        Vpoly += C[iN-3]/(R2**iN) * \\\n",
    "        (1 - exp(-b*R) * sum([(b*R)**ik/factorial(ik) for ik in range(0,2*iN+1)]))\n",
    "    V_Ne = Vexp-Vpoly\n",
    "    return V_Ne"
   ]
  },
  {
   "cell_type": "code",
   "execution_count": 5,
   "metadata": {},
   "outputs": [],
   "source": [
    "def Mie(x,sigma,eps,r):\n",
    "    V_Mie = eps*(x[0]/(x[0]-x[1]))*(x[0]/x[1])**(x[1]/(x[0]-x[1]))*((sigma/r)**x[0]-(sigma/r)**x[1])\n",
    "    return V_Mie"
   ]
  },
  {
   "cell_type": "code",
   "execution_count": 12,
   "metadata": {},
   "outputs": [
    {
     "data": {
      "text/plain": [
       "-42.152483595951836"
      ]
     },
     "execution_count": 12,
     "metadata": {},
     "output_type": "execute_result"
    }
   ],
   "source": [
    "Ne_JHBV(0.3089)"
   ]
  },
  {
   "cell_type": "code",
   "execution_count": 11,
   "metadata": {},
   "outputs": [
    {
     "data": {
      "text/plain": [
       "[<matplotlib.lines.Line2D at 0x2b8d7664fa58>]"
      ]
     },
     "execution_count": 11,
     "metadata": {},
     "output_type": "execute_result"
    },
    {
     "data": {
      "image/png": "[encoded data removed]",
      "text/plain": [
       "<Figure size 432x288 with 1 Axes>"
      ]
     },
     "metadata": {
      "needs_background": "light"
     },
     "output_type": "display_data"
    }
   ],
   "source": [
    "plt.plot([0.2+0.01*iR for iR in range(1,20)],[Ne_JHBV(0.2+0.01*iR) for iR in range(1,20)])"
   ]
  },
  {
   "cell_type": "code",
   "execution_count": 19,
   "metadata": {},
   "outputs": [
    {
     "data": {
      "text/plain": [
       "3.851065529645374e-08"
      ]
     },
     "execution_count": 19,
     "metadata": {},
     "output_type": "execute_result"
    }
   ],
   "source": []
  }
 ],
 "metadata": {
  "kernelspec": {
   "display_name": "Python 3",
   "language": "python",
   "name": "python3"
  },
  "language_info": {
   "codemirror_mode": {
    "name": "ipython",
    "version": 3
   },
   "file_extension": ".py",
   "mimetype": "text/x-python",
   "name": "python",
   "nbconvert_exporter": "python",
   "pygments_lexer": "ipython3",
   "version": "3.6.8"
  }
 },
 "nbformat": 4,
 "nbformat_minor": 2
}
